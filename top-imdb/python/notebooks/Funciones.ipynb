{
 "cells": [
  {
   "cell_type": "markdown",
   "metadata": {
    "id": "E4aYKF73kLJf"
   },
   "source": [
    "En primer lugar escribimos el codigo que queremos pero no orientada a objetos."
   ]
  },
  {
   "cell_type": "markdown",
   "metadata": {
    "id": "mIJbrEpKkdod"
   },
   "source": [
    "Empezamos por importar las librerias necesarias."
   ]
  },
  {
   "cell_type": "code",
   "execution_count": null,
   "metadata": {
    "id": "BlCR3vaEkbMZ"
   },
   "outputs": [],
   "source": [
    "import os  # modulo para interactuar con el sistema operativo\n",
    "import urllib.request  # modulo para realizar solicitudes HTTP\n",
    "import pandas as pd  # biblioteca para manipulacion de datos en DataFrames\n",
    "import tarfile  # modulo para manejar archivos tar\n",
    "from collections import defaultdict  # para crear diccionarios con valores predeterminados\n",
    "from pathlib import Path  # para manejar rutas de archivos y directorios\n",
    "import requests  # biblioteca para realizar solicitudes HTTP\n",
    "from bs4 import BeautifulSoup  # biblioteca para extraer datos de archivos HTML y XML"
   ]
  },
  {
   "cell_type": "markdown",
   "metadata": {
    "id": "bLp3ooWUki-8"
   },
   "source": [
    "Creamos una funcion para descargar el archivo."
   ]
  },
  {
   "cell_type": "code",
   "execution_count": null,
   "metadata": {
    "id": "enCYossjkiPT"
   },
   "outputs": [],
   "source": [
    "def descargar_archivo(url, directorio):\n",
    "  '''Descarga un archivo desde la URL especificada y lo guarda en el directorio indicado. Si el archivo ya existe, no se descarga de nuevo.'''\n",
    "  archivo = os.path.join(directorio, os.path.basename(url))  # ruta del archivo\n",
    "  os.makedirs(os.path.dirname(archivo), exist_ok=True)  # crear el directorio si no existe\n",
    "\n",
    "  # comprobar si el archivo ya existe antes de descargar\n",
    "  if not os.path.exists(archivo):\n",
    "    urllib.request.urlretrieve(url, archivo)  # descargar el archivo\n",
    "    print(f\"Descargado en {archivo}\")\n",
    "  else:\n",
    "    print(f\"El archivo ya existe.\")\n",
    "  return archivo  # retornar la ruta del archivo descargado"
   ]
  },
  {
   "cell_type": "markdown",
   "metadata": {
    "id": "nTGgLai1kv8s"
   },
   "source": [
    "Ahora una funcion para descomprimir el archivo descargado."
   ]
  },
  {
   "cell_type": "code",
   "execution_count": null,
   "metadata": {
    "id": "h0R8nHGekzzB"
   },
   "outputs": [],
   "source": [
    "def descomprimir_tar_gz(archivo, directorio):\n",
    "  '''Descomprime un archivo .tar.gz en el directorio especificado.'''\n",
    "  with tarfile.open(archivo, \"r:gz\") as tar:\n",
    "    tar.extractall(path=directorio)  # extraer todos los archivos en el directorio\n",
    "    print(f\"Descomprimido en {directorio}.\")"
   ]
  },
  {
   "cell_type": "markdown",
   "metadata": {
    "id": "5YA8U04dk7IO"
   },
   "source": [
    "A continuacion una serie de funciones que nos ayudaran a conseguir el objetivo:"
   ]
  },
  {
   "cell_type": "markdown",
   "metadata": {
    "id": "ZwyzzGa1lCET"
   },
   "source": [
    "1. Leer puntuaciones."
   ]
  },
  {
   "cell_type": "code",
   "execution_count": 4,
   "metadata": {
    "id": "YQut30Y0k55T"
   },
   "outputs": [],
   "source": [
    "def leer_puntuaciones(directorio):\n",
    "  '''Lee las puntuaciones de los archivos en el directorio dado y las organiza por identificador.'''\n",
    "  puntuaciones = defaultdict(list)  # crear un diccionario de listas para almacenar puntuaciones\n",
    "  for subdir, _, files in os.walk(directorio):\n",
    "    for file_name in files:\n",
    "      try:\n",
    "        # separar el identificador y la puntuación del nombre del archivo\n",
    "        identificador, puntuacion_str = file_name.split('_')\n",
    "        puntuacion = int(puntuacion_str.split('.')[0])\n",
    "        puntuaciones[identificador].append(puntuacion)\n",
    "      except (ValueError, IndexError):\n",
    "        continue  # ignorar errores en el procesamiento de nombres de archivos\n",
    "  return puntuaciones  # retornar el diccionario de puntuaciones"
   ]
  },
  {
   "cell_type": "markdown",
   "metadata": {
    "id": "ik-Gb1nAlUaZ"
   },
   "source": [
    "2. Calcular promedio."
   ]
  },
  {
   "cell_type": "code",
   "execution_count": 5,
   "metadata": {
    "id": "LcFgdje1lYDk"
   },
   "outputs": [],
   "source": [
    "def calcular_promedios(puntuaciones):\n",
    "  '''Calcula los promedios de las puntuaciones para cada identificador y devuelve un conjunto de (identificador, promedio).'''\n",
    "  return {identificador: sum(scores) / len(scores) for identificador, scores in puntuaciones.items()}  # retornar un diccionario con promedios"
   ]
  },
  {
   "cell_type": "markdown",
   "metadata": {
    "id": "XiSW2kdolbjJ"
   },
   "source": [
    "3. Obtener los $n$ mejores (sin repeticiones)."
   ]
  },
  {
   "cell_type": "code",
   "execution_count": 7,
   "metadata": {
    "id": "OzUn1_4wllT5"
   },
   "outputs": [],
   "source": [
    "def obtener_top_n(promedios, n=10, mejor=True):\n",
    "  '''Obtiene las top N películas con mejor o peor promedio. Devuelve una lista de (película, promedio) sin repeticiones.'''\n",
    "  sorted_movies = sorted(promedios.items(), key=lambda x: x[1], reverse=mejor)\n",
    "  peliculas_unicas = []  # lista para almacenar peliculas unicas\n",
    "  unicas = set()  # conjunto para rastrear peliculas unicas\n",
    "  for pelicula, promedio in sorted_movies:\n",
    "    if pelicula not in unicas:\n",
    "      peliculas_unicas.append((pelicula, promedio))\n",
    "      unicas.add(pelicula)  # agregar a la lista de peliculas unicas\n",
    "    if len(peliculas_unicas) == n:\n",
    "      break\n",
    "  return peliculas_unicas  # retornar la lista de peliculas"
   ]
  },
  {
   "cell_type": "markdown",
   "metadata": {
    "id": "AM6syxIllwOe"
   },
   "source": [
    "4. Quitar el texto que no sirve en la url."
   ]
  },
  {
   "cell_type": "code",
   "execution_count": 8,
   "metadata": {
    "id": "yAEp0t23l5il"
   },
   "outputs": [],
   "source": [
    "def procesar_url(url):\n",
    "  '''Procesa una URL para eliminar la parte que incluye '/usercomments' y retorna la parte relevante.'''\n",
    "  return url.split('/usercomments')[0]  # retornar la parte relevante de la url"
   ]
  },
  {
   "cell_type": "markdown",
   "metadata": {
    "id": "H7HcjRW1l8B_"
   },
   "source": [
    "5. Obtencion de nombres de las peliculas con BeautifulSoup"
   ]
  },
  {
   "cell_type": "code",
   "execution_count": 9,
   "metadata": {
    "id": "oG1KRyCKmE9Z"
   },
   "outputs": [],
   "source": [
    "def obtener_nombre_pelicula(url):\n",
    "  '''Obtiene el nombre de la película a partir de la url utilizando scraping. Retorna el título o un mensaje de error si no se encuentra.'''\n",
    "  headers = {\n",
    "    \"User-Agent\": \"Mozilla/5.0 (Windows NT 10.0; Win64; x64) AppleWebKit/537.36 (KHTML, like Gecko) Chrome/92.0.4515.159 Safari/537.36\"\n",
    "  }  # Definir el User-Agent para la solicitud\n",
    "  response = requests.get(url, headers=headers)\n",
    "  if response.status_code == 403:  # comprobar si no hay acceso\n",
    "    return \"Acceso denegado (403 Forbidden)\"\n",
    "\n",
    "  soup = BeautifulSoup(response.content, 'html.parser')\n",
    "  title_tag = soup.find('title')  # buscar la etiqueta de titulo\n",
    "  if title_tag:\n",
    "    return title_tag.text.replace(' - IMDb', '').strip()  # retornar el titulo sin el sufijo de IMDb\n",
    "  else:\n",
    "    return \"Título no encontrado\""
   ]
  },
  {
   "cell_type": "markdown",
   "metadata": {
    "id": "BqlH7NVLmNw_"
   },
   "source": [
    "6. Crear dataframe para poner titulo, promedio y url de las peliculas."
   ]
  },
  {
   "cell_type": "code",
   "execution_count": 10,
   "metadata": {
    "id": "_sHAMF-1mdLZ"
   },
   "outputs": [],
   "source": [
    "def crear_dataframe(peliculas, urls_path):\n",
    "  '''Crea un DataFrame de pandas a partir de las películas y las urls. Retorna un DataFrame con la url, el nombre de la película y su promedio.'''\n",
    "  urls = Path(urls_path).read_text().splitlines()\n",
    "  data = []\n",
    "  nombres_vistos = set()  # conjunto para rastrear nombres unicos\n",
    "  for identificador, promedio in peliculas:\n",
    "    url = procesar_url(urls[int(identificador) - 1])\n",
    "    nombre_pelicula = obtener_nombre_pelicula(url)  # obtener el nombre de la pelicula a partir de la url\n",
    "    if nombre_pelicula not in nombres_vistos:  # comprobar si el nombre estaba o no\n",
    "      nombres_vistos.add(nombre_pelicula)\n",
    "      data.append({'url': url, 'Película': nombre_pelicula, 'Promedio': promedio})  # agregar al conjunto de datos\n",
    "  return pd.DataFrame(data)  # retornar el dataframe creado"
   ]
  },
  {
   "cell_type": "markdown",
   "metadata": {
    "id": "xcF8ACwzmuD-"
   },
   "source": [
    "7. Imprimir peliculas."
   ]
  },
  {
   "cell_type": "code",
   "execution_count": 11,
   "metadata": {
    "id": "xIKkgoW4myp8"
   },
   "outputs": [],
   "source": [
    "def imprimir_peliculas(titulo, peliculas):\n",
    "  '''Imprime en consola el título y la lista de películas con su promedio y URL.'''\n",
    "  print(titulo)  # imprimir el titulo\n",
    "  for pelicula in peliculas:  # recorrer cada pelicula en la lista\n",
    "    print(f\"Película: {pelicula['Película']} || Promedio: {pelicula['Promedio']:.2f} || url: {pelicula['url']}\")  # Imprimir detalles de la película"
   ]
  },
  {
   "cell_type": "markdown",
   "metadata": {
    "id": "szcTkkvfm4Oe"
   },
   "source": [
    "8. Mandar a imprimir las mejores y las peores."
   ]
  },
  {
   "cell_type": "code",
   "execution_count": 12,
   "metadata": {
    "id": "FRE6KnCPZ0Oc"
   },
   "outputs": [],
   "source": [
    "def analizar_peliculas(directorio_pos, directorio_neg, urls_pos, urls_neg):\n",
    "  '''Coordina el proceso de análisis de películas, incluyendo la lectura de puntuaciones, cálculo de promedios y la impresión de resultados.'''\n",
    "  calificaciones_pos = leer_puntuaciones(directorio_pos)  # puntuaciones positivas\n",
    "  calificaciones_neg = leer_puntuaciones(directorio_neg)  # puntuaciones negativas\n",
    "  promedios_pos = calcular_promedios(calificaciones_pos)  # calcular promedios de puntuaciones positivas\n",
    "  promedios_neg = calcular_promedios(calificaciones_neg)  # calcular promedios de puntuaciones negativas\n",
    "  mejores_peliculas = obtener_top_n(promedios_pos, n=10)  # obtener las mejores películas\n",
    "  peores_peliculas = obtener_top_n(promedios_neg, n=10, mejor=False)  # obtener las peores películas\n",
    "  lista_mejores = crear_dataframe(mejores_peliculas, urls_pos)  # dataframe de mejores películas\n",
    "  lista_peores = crear_dataframe(peores_peliculas, urls_neg)  # dataframe de peores películas\n",
    "\n",
    "  # asegurarse de que la lista de mejores peliculas tenga al menos 10 elementos\n",
    "  while len(lista_mejores) < 10:\n",
    "    n_a_row = pd.DataFrame({'url': [''], 'Película': ['N/A'], 'Promedio': [0]})\n",
    "    lista_mejores = pd.concat([lista_mejores, n_a_row], ignore_index=True)  # agregar fila vacia a la lista\n",
    "\n",
    "  # asegurarse de que la lista de peores peliculas tenga al menos 10 elementos\n",
    "  while len(lista_peores) < 10:\n",
    "    n_a_row = pd.DataFrame({'url': [''], 'Película': ['N/A'], 'Promedio': [0]})\n",
    "    lista_peores = pd.concat([lista_peores, n_a_row], ignore_index=True)  # agregar fila vacia a la lista\n",
    "\n",
    "  # imprimir las listas de mejores y peores peliculas\n",
    "  imprimir_peliculas(\"Las 10 películas mejor calificadas:\\n\", lista_mejores.to_dict(orient='records'))\n",
    "  imprimir_peliculas(\"Las 10 películas peor calificadas:\\n\", lista_peores.to_dict(orient='records'))"
   ]
  }
 ],
 "metadata": {
  "colab": {
   "provenance": []
  },
  "kernelspec": {
   "display_name": "Python 3 (ipykernel)",
   "language": "python",
   "name": "python3"
  },
  "language_info": {
   "codemirror_mode": {
    "name": "ipython",
    "version": 3
   },
   "file_extension": ".py",
   "mimetype": "text/x-python",
   "name": "python",
   "nbconvert_exporter": "python",
   "pygments_lexer": "ipython3",
   "version": "3.11.6"
  }
 },
 "nbformat": 4,
 "nbformat_minor": 4
}
